{
 "cells": [
  {
   "cell_type": "markdown",
   "metadata": {},
   "source": [
    "QUESTION 1 - Power(Iterative):\n",
    "\n",
    "Write a program that calculates n'th power of a given number iteratively"
   ]
  },
  {
   "cell_type": "code",
   "execution_count": 1,
   "metadata": {
    "executionInfo": {
     "elapsed": 760,
     "status": "ok",
     "timestamp": 1607328083111,
     "user": {
      "displayName": "gizem dağdeviren",
      "photoUrl": "https://lh3.googleusercontent.com/a-/AOh14GiFau5mIe6N33lHJgFjRLSuUa5pfk0PrKbDqyGqSQ=s64",
      "userId": "02351390116138047818"
     },
     "user_tz": -180
    },
    "id": "dUDcASmPNtQf"
   },
   "outputs": [],
   "source": [
    "def iter_power(x,n):\n",
    "  number = 0\n",
    "  f = 1\n",
    "  while number < n:\n",
    "    f = f * x\n",
    "    number += 1\n",
    "  print(f)"
   ]
  },
  {
   "cell_type": "code",
   "execution_count": 2,
   "metadata": {
    "colab": {
     "base_uri": "https://localhost:8080/"
    },
    "executionInfo": {
     "elapsed": 727,
     "status": "ok",
     "timestamp": 1607328086006,
     "user": {
      "displayName": "gizem dağdeviren",
      "photoUrl": "https://lh3.googleusercontent.com/a-/AOh14GiFau5mIe6N33lHJgFjRLSuUa5pfk0PrKbDqyGqSQ=s64",
      "userId": "02351390116138047818"
     },
     "user_tz": -180
    },
    "id": "W1CtClSDNtai",
    "outputId": "72f3acaf-9b3f-4316-fcfc-e98b0a4b5453"
   },
   "outputs": [
    {
     "name": "stdout",
     "output_type": "stream",
     "text": [
      "32\n"
     ]
    }
   ],
   "source": [
    "iter_power(2,5)"
   ]
  },
  {
   "cell_type": "code",
   "execution_count": 3,
   "metadata": {
    "colab": {
     "base_uri": "https://localhost:8080/"
    },
    "executionInfo": {
     "elapsed": 773,
     "status": "ok",
     "timestamp": 1607328095730,
     "user": {
      "displayName": "gizem dağdeviren",
      "photoUrl": "https://lh3.googleusercontent.com/a-/AOh14GiFau5mIe6N33lHJgFjRLSuUa5pfk0PrKbDqyGqSQ=s64",
      "userId": "02351390116138047818"
     },
     "user_tz": -180
    },
    "id": "-BITqyVMOFN5",
    "outputId": "e2169531-7465-436b-b83b-b95aed5c9808"
   },
   "outputs": [
    {
     "name": "stdout",
     "output_type": "stream",
     "text": [
      "64\n"
     ]
    }
   ],
   "source": [
    "iter_power(4,3)"
   ]
  },
  {
   "cell_type": "markdown",
   "metadata": {},
   "source": [
    "QUESTION 2 - Power(Recursive):\n",
    "\n",
    "Write a program that calculates n'th power of a given number recursively"
   ]
  },
  {
   "cell_type": "code",
   "execution_count": 4,
   "metadata": {
    "executionInfo": {
     "elapsed": 704,
     "status": "ok",
     "timestamp": 1607328114376,
     "user": {
      "displayName": "gizem dağdeviren",
      "photoUrl": "https://lh3.googleusercontent.com/a-/AOh14GiFau5mIe6N33lHJgFjRLSuUa5pfk0PrKbDqyGqSQ=s64",
      "userId": "02351390116138047818"
     },
     "user_tz": -180
    },
    "id": "CmLyB9wjOGgB"
   },
   "outputs": [],
   "source": [
    "def iter_power(x,n):\n",
    "  if x == 0:\n",
    "    return 0\n",
    "  if n == 1:\n",
    "    return x \n",
    "  if (n == 0 & x != 0):\n",
    "    print(0)\n",
    "\n",
    "  return (x * iter_power(x, n - 1))\n",
    "  \n",
    "  print(\"Result:\", iter_power(x,n))"
   ]
  },
  {
   "cell_type": "code",
   "execution_count": 5,
   "metadata": {
    "colab": {
     "base_uri": "https://localhost:8080/"
    },
    "executionInfo": {
     "elapsed": 679,
     "status": "ok",
     "timestamp": 1607328121741,
     "user": {
      "displayName": "gizem dağdeviren",
      "photoUrl": "https://lh3.googleusercontent.com/a-/AOh14GiFau5mIe6N33lHJgFjRLSuUa5pfk0PrKbDqyGqSQ=s64",
      "userId": "02351390116138047818"
     },
     "user_tz": -180
    },
    "id": "KaMp2gsUOGoP",
    "outputId": "237c5de7-ff8f-46f3-d986-5a1a7006329e"
   },
   "outputs": [
    {
     "data": {
      "text/plain": [
       "25"
      ]
     },
     "execution_count": 5,
     "metadata": {
      "tags": []
     },
     "output_type": "execute_result"
    }
   ],
   "source": [
    "iter_power(5,2)"
   ]
  },
  {
   "cell_type": "code",
   "execution_count": 6,
   "metadata": {
    "colab": {
     "base_uri": "https://localhost:8080/"
    },
    "executionInfo": {
     "elapsed": 686,
     "status": "ok",
     "timestamp": 1607328131261,
     "user": {
      "displayName": "gizem dağdeviren",
      "photoUrl": "https://lh3.googleusercontent.com/a-/AOh14GiFau5mIe6N33lHJgFjRLSuUa5pfk0PrKbDqyGqSQ=s64",
      "userId": "02351390116138047818"
     },
     "user_tz": -180
    },
    "id": "nCUZb4tEON63",
    "outputId": "159fe94b-1043-4b73-b699-becdaea40a7f"
   },
   "outputs": [
    {
     "data": {
      "text/plain": [
       "216"
      ]
     },
     "execution_count": 6,
     "metadata": {
      "tags": []
     },
     "output_type": "execute_result"
    }
   ],
   "source": [
    "iter_power(6,3)"
   ]
  },
  {
   "cell_type": "markdown",
   "metadata": {},
   "source": [
    "QUESTION 3 - Given dictionary d, return a key that has a maximum value associated with it\n",
    "\n",
    "for example if d = {\"a\":[1,2,3], \"b\":[45,43,21,23], \"c\":[3,4,5]}\n",
    "\n",
    "it should return \"b\""
   ]
  },
  {
   "cell_type": "code",
   "execution_count": 7,
   "metadata": {
    "colab": {
     "base_uri": "https://localhost:8080/",
     "height": 35
    },
    "executionInfo": {
     "elapsed": 671,
     "status": "ok",
     "timestamp": 1607328143197,
     "user": {
      "displayName": "gizem dağdeviren",
      "photoUrl": "https://lh3.googleusercontent.com/a-/AOh14GiFau5mIe6N33lHJgFjRLSuUa5pfk0PrKbDqyGqSQ=s64",
      "userId": "02351390116138047818"
     },
     "user_tz": -180
    },
    "id": "OriKA-f9OQsg",
    "outputId": "10ed5665-cc03-45a8-8a98-2e1896c66c4b"
   },
   "outputs": [
    {
     "data": {
      "application/vnd.google.colaboratory.intrinsic+json": {
       "type": "string"
      },
      "text/plain": [
       "'b'"
      ]
     },
     "execution_count": 7,
     "metadata": {
      "tags": []
     },
     "output_type": "execute_result"
    }
   ],
   "source": [
    "d = {\"a\":[1,2,3], \"b\":[45,43,21,23], \"c\":[3,4,5]}\n",
    "def max_key(d):\n",
    "  max_value = max(d.values())\n",
    "  for key, value in d.items():\n",
    "    if (value == max_value):\n",
    "      max_keys = key\n",
    "      return max_keys\n",
    "\n",
    "  \n",
    "max_key(d)\n"
   ]
  },
  {
   "cell_type": "code",
   "execution_count": 8,
   "metadata": {
    "colab": {
     "base_uri": "https://localhost:8080/"
    },
    "executionInfo": {
     "elapsed": 832,
     "status": "ok",
     "timestamp": 1607328157822,
     "user": {
      "displayName": "gizem dağdeviren",
      "photoUrl": "https://lh3.googleusercontent.com/a-/AOh14GiFau5mIe6N33lHJgFjRLSuUa5pfk0PrKbDqyGqSQ=s64",
      "userId": "02351390116138047818"
     },
     "user_tz": -180
    },
    "id": "ItxNgk3COT8A",
    "outputId": "bf8ce551-249c-4b92-aa6f-ae3bdf56ab12"
   },
   "outputs": [
    {
     "data": {
      "text/plain": [
       "dict_values([[1, 2, 3], [45, 43, 21, 23], [3, 4, 5]])"
      ]
     },
     "execution_count": 8,
     "metadata": {
      "tags": []
     },
     "output_type": "execute_result"
    }
   ],
   "source": [
    "d = {\"a\":[1,2,3], \"b\":[45,43,21,23], \"c\":[3,4,5]}\n",
    "d.values()"
   ]
  },
  {
   "cell_type": "code",
   "execution_count": 9,
   "metadata": {
    "colab": {
     "base_uri": "https://localhost:8080/"
    },
    "executionInfo": {
     "elapsed": 742,
     "status": "ok",
     "timestamp": 1607328166593,
     "user": {
      "displayName": "gizem dağdeviren",
      "photoUrl": "https://lh3.googleusercontent.com/a-/AOh14GiFau5mIe6N33lHJgFjRLSuUa5pfk0PrKbDqyGqSQ=s64",
      "userId": "02351390116138047818"
     },
     "user_tz": -180
    },
    "id": "0ypIPiqVOUJf",
    "outputId": "5457db8e-41e2-4a16-a90d-37facd7cd0f2"
   },
   "outputs": [
    {
     "data": {
      "text/plain": [
       "[45, 43, 21, 23]"
      ]
     },
     "execution_count": 9,
     "metadata": {
      "tags": []
     },
     "output_type": "execute_result"
    }
   ],
   "source": [
    "max(d.values())"
   ]
  },
  {
   "cell_type": "code",
   "execution_count": 10,
   "metadata": {
    "colab": {
     "base_uri": "https://localhost:8080/"
    },
    "executionInfo": {
     "elapsed": 814,
     "status": "ok",
     "timestamp": 1607328174718,
     "user": {
      "displayName": "gizem dağdeviren",
      "photoUrl": "https://lh3.googleusercontent.com/a-/AOh14GiFau5mIe6N33lHJgFjRLSuUa5pfk0PrKbDqyGqSQ=s64",
      "userId": "02351390116138047818"
     },
     "user_tz": -180
    },
    "id": "9FpbTqzuOUQi",
    "outputId": "e1ae1864-5c69-4cd4-9eb3-ce4051fd592c"
   },
   "outputs": [
    {
     "data": {
      "text/plain": [
       "dict_items([('a', [1, 2, 3]), ('b', [45, 43, 21, 23]), ('c', [3, 4, 5])])"
      ]
     },
     "execution_count": 10,
     "metadata": {
      "tags": []
     },
     "output_type": "execute_result"
    }
   ],
   "source": [
    "d.items()"
   ]
  },
  {
   "cell_type": "markdown",
   "metadata": {},
   "source": [
    "QUESTION 4 - Write fibonacci series as recursive using dictionary.\n",
    "\n",
    "If fib (2) has been calculated once, it shouldn't be calculated again in another function call. It must get its value from the dictionary."
   ]
  },
  {
   "cell_type": "code",
   "execution_count": 11,
   "metadata": {
    "colab": {
     "base_uri": "https://localhost:8080/"
    },
    "executionInfo": {
     "elapsed": 723,
     "status": "ok",
     "timestamp": 1607328192530,
     "user": {
      "displayName": "gizem dağdeviren",
      "photoUrl": "https://lh3.googleusercontent.com/a-/AOh14GiFau5mIe6N33lHJgFjRLSuUa5pfk0PrKbDqyGqSQ=s64",
      "userId": "02351390116138047818"
     },
     "user_tz": -180
    },
    "id": "c-XStjHaNo8r",
    "outputId": "6c071925-6100-41bf-ae49-bea3af25774c"
   },
   "outputs": [
    {
     "name": "stdout",
     "output_type": "stream",
     "text": [
      "{0: 0, 1: 1, 2: 1, 3: 2, 4: 3, 5: 5, 6: 8, 7: 13, 8: 21, 9: 34, 10: 55, 11: 89, 12: 144}\n"
     ]
    }
   ],
   "source": [
    "fib={0:0,1:1}\n",
    "def fibo(n):\n",
    "     if(n==0):\n",
    "       return 0\n",
    "     if(n==1):\n",
    "       return 1\n",
    "     else:\n",
    "          for i in range(2, n+1):\n",
    "                fib[i]=fib[i-1]+fib[i-2]\n",
    "          return(fib)\n",
    "print(fibo(12))"
   ]
  },
  {
   "cell_type": "code",
   "execution_count": null,
   "metadata": {
    "id": "g4XSBItMNo_C"
   },
   "outputs": [],
   "source": []
  },
  {
   "cell_type": "code",
   "execution_count": null,
   "metadata": {
    "id": "Cn7q3FVUNpBm"
   },
   "outputs": [],
   "source": []
  },
  {
   "cell_type": "code",
   "execution_count": null,
   "metadata": {
    "id": "yJE7YcAQNpEQ"
   },
   "outputs": [],
   "source": []
  },
  {
   "cell_type": "code",
   "execution_count": null,
   "metadata": {
    "id": "87O1k4kFNpGx"
   },
   "outputs": [],
   "source": []
  },
  {
   "cell_type": "code",
   "execution_count": null,
   "metadata": {
    "id": "OLrHHlmTNpJB"
   },
   "outputs": [],
   "source": []
  },
  {
   "cell_type": "code",
   "execution_count": null,
   "metadata": {
    "id": "7VhlFrxXNpLv"
   },
   "outputs": [],
   "source": []
  },
  {
   "cell_type": "code",
   "execution_count": null,
   "metadata": {
    "id": "l3cs7y0gNpN4"
   },
   "outputs": [],
   "source": []
  },
  {
   "cell_type": "code",
   "execution_count": null,
   "metadata": {
    "id": "bSLT90loNpQk"
   },
   "outputs": [],
   "source": []
  },
  {
   "cell_type": "code",
   "execution_count": null,
   "metadata": {
    "id": "1icAH_A2NpTF"
   },
   "outputs": [],
   "source": []
  },
  {
   "cell_type": "code",
   "execution_count": null,
   "metadata": {
    "id": "Q1eYrz0uNpVm"
   },
   "outputs": [],
   "source": []
  },
  {
   "cell_type": "code",
   "execution_count": null,
   "metadata": {
    "id": "MfKbqC4aNpXy"
   },
   "outputs": [],
   "source": []
  },
  {
   "cell_type": "code",
   "execution_count": null,
   "metadata": {
    "id": "n9Xean15Npae"
   },
   "outputs": [],
   "source": []
  }
 ],
 "metadata": {
  "colab": {
   "authorship_tag": "ABX9TyNH2jT8xzUsdRVCMD5w26/7",
   "collapsed_sections": [],
   "name": "gizem_dagdeviren_hw_2.ipynb",
   "provenance": []
  },
  "kernelspec": {
   "display_name": "Python 3",
   "language": "python",
   "name": "python3"
  },
  "language_info": {
   "codemirror_mode": {
    "name": "ipython",
    "version": 3
   },
   "file_extension": ".py",
   "mimetype": "text/x-python",
   "name": "python",
   "nbconvert_exporter": "python",
   "pygments_lexer": "ipython3",
   "version": "3.8.3"
  }
 },
 "nbformat": 4,
 "nbformat_minor": 1
}
