{
 "cells": [
  {
   "cell_type": "code",
   "execution_count": null,
   "metadata": {
    "id": "nnuJnJEIpfHQ"
   },
   "outputs": [],
   "source": [
    "l = [[\"a\", \"b\"], [\"a\", \"c\", \"d\"], [\"a\"], [\"b\", \"d\"]]"
   ]
  },
  {
   "cell_type": "code",
   "execution_count": null,
   "metadata": {
    "colab": {
     "base_uri": "https://localhost:8080/"
    },
    "executionInfo": {
     "elapsed": 743,
     "status": "ok",
     "timestamp": 1607788299107,
     "user": {
      "displayName": "gizem dağdeviren",
      "photoUrl": "https://lh3.googleusercontent.com/a-/AOh14GiFau5mIe6N33lHJgFjRLSuUa5pfk0PrKbDqyGqSQ=s64",
      "userId": "02351390116138047818"
     },
     "user_tz": -180
    },
    "id": "fd94QQL2pneI",
    "outputId": "d620815b-316a-4f13-ee94-11cfb17a0933"
   },
   "outputs": [
    {
     "data": {
      "text/plain": [
       "['a', 'b', 'a', 'c', 'd', 'a', 'b', 'd']"
      ]
     },
     "execution_count": 2,
     "metadata": {
      "tags": []
     },
     "output_type": "execute_result"
    }
   ],
   "source": [
    "l = [[\"a\", \"b\"], [\"a\", \"c\", \"d\"], [\"a\"], [\"b\", \"d\"]]\n",
    "def flattenList(data):\n",
    "    results = []\n",
    "    for i in data:\n",
    "        if isinstance(i, list):\n",
    "            results.extend(i)\n",
    "            results = flattenList(results)\n",
    "        else:\n",
    "            results.append(i)\n",
    "    return results\n",
    "\n",
    "\n",
    "flattenList(l)"
   ]
  },
  {
   "cell_type": "code",
   "execution_count": null,
   "metadata": {
    "colab": {
     "base_uri": "https://localhost:8080/"
    },
    "executionInfo": {
     "elapsed": 737,
     "status": "ok",
     "timestamp": 1607788308646,
     "user": {
      "displayName": "gizem dağdeviren",
      "photoUrl": "https://lh3.googleusercontent.com/a-/AOh14GiFau5mIe6N33lHJgFjRLSuUa5pfk0PrKbDqyGqSQ=s64",
      "userId": "02351390116138047818"
     },
     "user_tz": -180
    },
    "id": "XhWeUtXppniW",
    "outputId": "02be3a82-2c42-4d72-f8eb-251e350ea553"
   },
   "outputs": [
    {
     "name": "stdout",
     "output_type": "stream",
     "text": [
      "{'a': 3, 'b': 2, 'c': 1, 'd': 2}\n"
     ]
    }
   ],
   "source": [
    "def count(x):\n",
    "  count_a = 0\n",
    "  count_b = 0\n",
    "  count_c = 0\n",
    "  count_d = 0\n",
    "  dict = {}\n",
    "  for i in x:\n",
    "    if(i == \"a\"):\n",
    "      count_a += 1\n",
    "      dict[\"a\"] = count_a\n",
    "    elif(i == \"b\"):\n",
    "      count_b += 1\n",
    "      dict[\"b\"] = count_b\n",
    "    elif(i == \"c\"):\n",
    "      count_c += 1\n",
    "      dict[\"c\"] = count_c\n",
    "    elif(i == \"d\"):\n",
    "      count_d += 1\n",
    "      dict[\"d\"] = count_d\n",
    "\n",
    "  print(dict)\n",
    "\n",
    "    \n",
    "\n",
    "count(flattenList(l))"
   ]
  }
 ],
 "metadata": {
  "colab": {
   "collapsed_sections": [],
   "name": "gizem_dagdeviren_hw3.ipynb",
   "provenance": []
  },
  "kernelspec": {
   "display_name": "Python 3",
   "language": "python",
   "name": "python3"
  },
  "language_info": {
   "codemirror_mode": {
    "name": "ipython",
    "version": 3
   },
   "file_extension": ".py",
   "mimetype": "text/x-python",
   "name": "python",
   "nbconvert_exporter": "python",
   "pygments_lexer": "ipython3",
   "version": "3.8.3"
  }
 },
 "nbformat": 4,
 "nbformat_minor": 1
}
