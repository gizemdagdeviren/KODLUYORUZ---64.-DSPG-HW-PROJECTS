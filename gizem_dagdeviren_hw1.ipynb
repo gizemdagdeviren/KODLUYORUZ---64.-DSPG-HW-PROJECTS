{
 "cells": [
  {
   "cell_type": "markdown",
   "metadata": {},
   "source": [
    "1. SORU\n",
    "Write a code that modifies the given matrix M (with 3 rows and 4 columns), by swapping the (whole) columns 0 and 1.\n",
    "\n",
    "M = [[11, 12, 13, 14], [21, 22, 23, 24], [31, 32, 33, 34]]\n",
    "\n",
    "The matrix M above should become the matrix below;\n",
    "\n",
    "M = [[12, 11, 13, 14], [22, 21, 23, 24], [32, 31, 33, 34]]"
   ]
  },
  {
   "cell_type": "code",
   "execution_count": 1,
   "metadata": {
    "colab": {
     "base_uri": "https://localhost:8080/"
    },
    "executionInfo": {
     "elapsed": 769,
     "status": "ok",
     "timestamp": 1606754916898,
     "user": {
      "displayName": "gizem dağdeviren",
      "photoUrl": "https://lh3.googleusercontent.com/a-/AOh14GiFau5mIe6N33lHJgFjRLSuUa5pfk0PrKbDqyGqSQ=s64",
      "userId": "02351390116138047818"
     },
     "user_tz": -180
    },
    "id": "v2f_IOWyDiwX",
    "outputId": "752d9421-40ee-434f-e7fc-387c59388243"
   },
   "outputs": [
    {
     "name": "stdout",
     "output_type": "stream",
     "text": [
      "[[12, 11, 13, 14], [22, 21, 23, 24], [32, 31, 33, 34]]\n"
     ]
    }
   ],
   "source": [
    "M = [[11, 12, 13, 14], [21, 22, 23, 24], [31, 32, 33, 34]]\n",
    "temp = 0\n",
    "i = 0\n",
    "for i in range(len(M)):\n",
    "  temp = M[i][0]\n",
    "  M[i][0] = M[i][1]\n",
    "  M[i][1] = temp\n",
    " \n",
    "print(M)"
   ]
  },
  {
   "cell_type": "code",
   "execution_count": 2,
   "metadata": {
    "colab": {
     "base_uri": "https://localhost:8080/"
    },
    "executionInfo": {
     "elapsed": 1023,
     "status": "ok",
     "timestamp": 1606754920355,
     "user": {
      "displayName": "gizem dağdeviren",
      "photoUrl": "https://lh3.googleusercontent.com/a-/AOh14GiFau5mIe6N33lHJgFjRLSuUa5pfk0PrKbDqyGqSQ=s64",
      "userId": "02351390116138047818"
     },
     "user_tz": -180
    },
    "id": "1Mu_5S4bDiyw",
    "outputId": "cd69c45c-dcc8-42c4-fb2d-5d5d0507f482"
   },
   "outputs": [
    {
     "data": {
      "text/plain": [
       "3"
      ]
     },
     "execution_count": 2,
     "metadata": {
      "tags": []
     },
     "output_type": "execute_result"
    }
   ],
   "source": [
    "len(M)"
   ]
  },
  {
   "cell_type": "code",
   "execution_count": 3,
   "metadata": {
    "colab": {
     "base_uri": "https://localhost:8080/"
    },
    "executionInfo": {
     "elapsed": 746,
     "status": "ok",
     "timestamp": 1606754928086,
     "user": {
      "displayName": "gizem dağdeviren",
      "photoUrl": "https://lh3.googleusercontent.com/a-/AOh14GiFau5mIe6N33lHJgFjRLSuUa5pfk0PrKbDqyGqSQ=s64",
      "userId": "02351390116138047818"
     },
     "user_tz": -180
    },
    "id": "VGyx5HBQDi2l",
    "outputId": "538e0394-f19a-4aa2-bc4f-7083638f3e6a"
   },
   "outputs": [
    {
     "data": {
      "text/plain": [
       "[[12, 11, 13, 14], [22, 21, 23, 24], [32, 31, 33, 34]]"
      ]
     },
     "execution_count": 3,
     "metadata": {
      "tags": []
     },
     "output_type": "execute_result"
    }
   ],
   "source": [
    "M"
   ]
  },
  {
   "cell_type": "markdown",
   "metadata": {
    "id": "s_DSVOQpDi4t"
   },
   "source": [
    "#2. SORU\n",
    "Find the maximal element of the matrix M and print the row number and column number of the maximal element as a tuple.\n",
    "\n",
    "M = [[0, 3, 2, 4], [2, 7, 5, 9], [6, 1, 2, 3]]\n",
    "\n",
    "The output of the code should be row number and column number of the maximal element as a tuple. (1,3)"
   ]
  },
  {
   "cell_type": "code",
   "execution_count": 4,
   "metadata": {
    "colab": {
     "base_uri": "https://localhost:8080/"
    },
    "executionInfo": {
     "elapsed": 1115,
     "status": "ok",
     "timestamp": 1606754947447,
     "user": {
      "displayName": "gizem dağdeviren",
      "photoUrl": "https://lh3.googleusercontent.com/a-/AOh14GiFau5mIe6N33lHJgFjRLSuUa5pfk0PrKbDqyGqSQ=s64",
      "userId": "02351390116138047818"
     },
     "user_tz": -180
    },
    "id": "1PqcH40VDi6e",
    "outputId": "f158745e-709f-4414-aa75-e8aa9a70f028"
   },
   "outputs": [
    {
     "name": "stdout",
     "output_type": "stream",
     "text": [
      "9\n"
     ]
    },
    {
     "data": {
      "text/plain": [
       "(1, 3)"
      ]
     },
     "execution_count": 4,
     "metadata": {
      "tags": []
     },
     "output_type": "execute_result"
    }
   ],
   "source": [
    "M = [[0, 3, 2, 4], [2, 7, 5, 9], [6, 1, 2, 3]]\n",
    "max = 0\n",
    "\n",
    "for i in range(3):\n",
    "  for j in range(4):\n",
    "    if(M[i][j] > max):\n",
    "      max = M[i][j]\n",
    "      imax = i\n",
    "      jmax = j\n",
    "print(max)\n",
    "\n",
    "mytuple = (imax,jmax)   \n",
    "\n",
    "mytuple"
   ]
  },
  {
   "cell_type": "markdown",
   "metadata": {
    "id": "GZb7zADGDi8u"
   },
   "source": [
    "#3. SORU\n",
    "Given two lists of numbers, count how many unique numbers occur in both of them.\n",
    "\n",
    "For example, on input\n",
    "\n",
    "list_1 = [5, 3, 3, 10, 40]\n",
    "\n",
    "list_2 = [40, 3, 40, 1, 2]\n",
    "\n",
    "output must be\n",
    "\n",
    "6"
   ]
  },
  {
   "cell_type": "code",
   "execution_count": 5,
   "metadata": {
    "executionInfo": {
     "elapsed": 690,
     "status": "ok",
     "timestamp": 1606754968519,
     "user": {
      "displayName": "gizem dağdeviren",
      "photoUrl": "https://lh3.googleusercontent.com/a-/AOh14GiFau5mIe6N33lHJgFjRLSuUa5pfk0PrKbDqyGqSQ=s64",
      "userId": "02351390116138047818"
     },
     "user_tz": -180
    },
    "id": "H_4coJnzDi-s"
   },
   "outputs": [],
   "source": [
    "list_1 = [5, 3, 3, 10, 40]\n",
    "list_2 = [40, 3, 40, 1, 2]"
   ]
  },
  {
   "cell_type": "code",
   "execution_count": 6,
   "metadata": {
    "executionInfo": {
     "elapsed": 728,
     "status": "ok",
     "timestamp": 1606754979744,
     "user": {
      "displayName": "gizem dağdeviren",
      "photoUrl": "https://lh3.googleusercontent.com/a-/AOh14GiFau5mIe6N33lHJgFjRLSuUa5pfk0PrKbDqyGqSQ=s64",
      "userId": "02351390116138047818"
     },
     "user_tz": -180
    },
    "id": "9rm98NRnDydW"
   },
   "outputs": [],
   "source": [
    "joinedlist = list_1 + list_2"
   ]
  },
  {
   "cell_type": "code",
   "execution_count": 7,
   "metadata": {
    "colab": {
     "base_uri": "https://localhost:8080/"
    },
    "executionInfo": {
     "elapsed": 727,
     "status": "ok",
     "timestamp": 1606754999907,
     "user": {
      "displayName": "gizem dağdeviren",
      "photoUrl": "https://lh3.googleusercontent.com/a-/AOh14GiFau5mIe6N33lHJgFjRLSuUa5pfk0PrKbDqyGqSQ=s64",
      "userId": "02351390116138047818"
     },
     "user_tz": -180
    },
    "id": "J5DQwnMYDyfw",
    "outputId": "5d4e90ee-67d4-4543-ac8d-be8c0523561e"
   },
   "outputs": [
    {
     "data": {
      "text/plain": [
       "[5, 3, 3, 10, 40, 40, 3, 40, 1, 2]"
      ]
     },
     "execution_count": 7,
     "metadata": {
      "tags": []
     },
     "output_type": "execute_result"
    }
   ],
   "source": [
    "joinedlist"
   ]
  },
  {
   "cell_type": "code",
   "execution_count": 8,
   "metadata": {
    "colab": {
     "base_uri": "https://localhost:8080/"
    },
    "executionInfo": {
     "elapsed": 753,
     "status": "ok",
     "timestamp": 1606755011903,
     "user": {
      "displayName": "gizem dağdeviren",
      "photoUrl": "https://lh3.googleusercontent.com/a-/AOh14GiFau5mIe6N33lHJgFjRLSuUa5pfk0PrKbDqyGqSQ=s64",
      "userId": "02351390116138047818"
     },
     "user_tz": -180
    },
    "id": "04gxivZNDyh2",
    "outputId": "7fc20f75-e8ca-4ad1-c34c-e9561b22c3f5"
   },
   "outputs": [
    {
     "name": "stdout",
     "output_type": "stream",
     "text": [
      "5\n",
      "3\n",
      "10\n",
      "40\n",
      "1\n",
      "2\n"
     ]
    }
   ],
   "source": [
    "def unique(joinedlist):\n",
    "  unique_list = []\n",
    "\n",
    "  for item in joinedlist:\n",
    "    if item not in unique_list:\n",
    "      unique_list.append(item)\n",
    "\n",
    "  for item in unique_list:\n",
    "    print(item)\n",
    "\n",
    "unique(joinedlist)"
   ]
  },
  {
   "cell_type": "code",
   "execution_count": 9,
   "metadata": {
    "colab": {
     "base_uri": "https://localhost:8080/"
    },
    "executionInfo": {
     "elapsed": 754,
     "status": "ok",
     "timestamp": 1606755020040,
     "user": {
      "displayName": "gizem dağdeviren",
      "photoUrl": "https://lh3.googleusercontent.com/a-/AOh14GiFau5mIe6N33lHJgFjRLSuUa5pfk0PrKbDqyGqSQ=s64",
      "userId": "02351390116138047818"
     },
     "user_tz": -180
    },
    "id": "5azkY8PgDyl6",
    "outputId": "54c36bf6-6280-4195-857a-7877da749d87"
   },
   "outputs": [
    {
     "data": {
      "text/plain": [
       "[5, 3, 3, 10, 40, 40, 3, 40, 1, 2]"
      ]
     },
     "execution_count": 9,
     "metadata": {
      "tags": []
     },
     "output_type": "execute_result"
    }
   ],
   "source": [
    "liste = [5, 3, 3, 10, 40, 40, 3, 40, 1, 2]\n",
    "liste"
   ]
  },
  {
   "cell_type": "code",
   "execution_count": 10,
   "metadata": {
    "colab": {
     "base_uri": "https://localhost:8080/"
    },
    "executionInfo": {
     "elapsed": 1115,
     "status": "ok",
     "timestamp": 1606755030735,
     "user": {
      "displayName": "gizem dağdeviren",
      "photoUrl": "https://lh3.googleusercontent.com/a-/AOh14GiFau5mIe6N33lHJgFjRLSuUa5pfk0PrKbDqyGqSQ=s64",
      "userId": "02351390116138047818"
     },
     "user_tz": -180
    },
    "id": "TzRzrIJmDyoN",
    "outputId": "2d3a531e-1e62-411d-f984-1c43821810a6"
   },
   "outputs": [
    {
     "data": {
      "text/plain": [
       "{1, 2, 3, 5, 10, 40}"
      ]
     },
     "execution_count": 10,
     "metadata": {
      "tags": []
     },
     "output_type": "execute_result"
    }
   ],
   "source": [
    "set(liste)"
   ]
  },
  {
   "cell_type": "markdown",
   "metadata": {
    "id": "1JTu562UDyrP"
   },
   "source": [
    "#4. SORU\n",
    "We have a dictionary containing the math grades and the student number of 5 students. Calculate the mean of the grades and then prints out the name of the students who are above and below that average(and if any print that are equals to the mean as well):\n",
    "\n",
    "For example if the grades are\n",
    "\n",
    "Jane: 30\n",
    "\n",
    "Pat: 40\n",
    "\n",
    "Denis: 50\n",
    "\n",
    "Max: 60\n",
    "\n",
    "Lara: 70\n",
    "\n",
    "Then the mean is 50\n",
    "\n",
    "your program should print:\n",
    "\n",
    "*\"Grade(s) of Jane and Pat are below the average\"*\n",
    "\n",
    "*\"Grade(s) of Denis is equal to the mean\"*\n",
    "\n",
    "*\"Grade(s) of Max and Lara are above the average\"*"
   ]
  },
  {
   "cell_type": "code",
   "execution_count": 11,
   "metadata": {
    "colab": {
     "base_uri": "https://localhost:8080/"
    },
    "executionInfo": {
     "elapsed": 736,
     "status": "ok",
     "timestamp": 1606755055652,
     "user": {
      "displayName": "gizem dağdeviren",
      "photoUrl": "https://lh3.googleusercontent.com/a-/AOh14GiFau5mIe6N33lHJgFjRLSuUa5pfk0PrKbDqyGqSQ=s64",
      "userId": "02351390116138047818"
     },
     "user_tz": -180
    },
    "id": "mLoQv8rzDjAs",
    "outputId": "b650b3dc-ac90-4757-b3d5-6d2fdd502582"
   },
   "outputs": [
    {
     "data": {
      "text/plain": [
       "{'Denis': {'grade': 70, 'student_number': 4089},\n",
       " 'Jane': {'grade': 90, 'student_number': 4012},\n",
       " 'Lara': {'grade': 74, 'student_number': 4042},\n",
       " 'Max': {'grade': 72, 'student_number': 4322},\n",
       " 'Pat': {'grade': 81, 'student_number': 4052}}"
      ]
     },
     "execution_count": 11,
     "metadata": {
      "tags": []
     },
     "output_type": "execute_result"
    }
   ],
   "source": [
    "# Solve this question using dictionary below\n",
    "students = {\"Jane\":{\"grade\":90,\"student_number\":4012}, \n",
    "          \"Pat\":{\"grade\":81,\"student_number\":4052},\n",
    "          \"Denis\":{\"grade\":70,\"student_number\":4089},\n",
    "          \"Max\":{\"grade\":72,\"student_number\":4322},\n",
    "          \"Lara\":{\"grade\":74,\"student_number\":4042}}\n",
    "students"
   ]
  },
  {
   "cell_type": "code",
   "execution_count": 12,
   "metadata": {
    "colab": {
     "base_uri": "https://localhost:8080/"
    },
    "executionInfo": {
     "elapsed": 1294,
     "status": "ok",
     "timestamp": 1606755076178,
     "user": {
      "displayName": "gizem dağdeviren",
      "photoUrl": "https://lh3.googleusercontent.com/a-/AOh14GiFau5mIe6N33lHJgFjRLSuUa5pfk0PrKbDqyGqSQ=s64",
      "userId": "02351390116138047818"
     },
     "user_tz": -180
    },
    "id": "CSzAW0G8EE0O",
    "outputId": "3593dae9-39fa-4bec-9a82-6b5afa666217"
   },
   "outputs": [
    {
     "name": "stdout",
     "output_type": "stream",
     "text": [
      "70\n"
     ]
    }
   ],
   "source": [
    "print(students['Denis']['grade'])"
   ]
  },
  {
   "cell_type": "code",
   "execution_count": 13,
   "metadata": {
    "colab": {
     "base_uri": "https://localhost:8080/"
    },
    "executionInfo": {
     "elapsed": 754,
     "status": "ok",
     "timestamp": 1606755084700,
     "user": {
      "displayName": "gizem dağdeviren",
      "photoUrl": "https://lh3.googleusercontent.com/a-/AOh14GiFau5mIe6N33lHJgFjRLSuUa5pfk0PrKbDqyGqSQ=s64",
      "userId": "02351390116138047818"
     },
     "user_tz": -180
    },
    "id": "7fYi4IkAEE2w",
    "outputId": "6d727565-e7b7-436d-aca6-26185de9bd7d"
   },
   "outputs": [
    {
     "data": {
      "text/plain": [
       "5"
      ]
     },
     "execution_count": 13,
     "metadata": {
      "tags": []
     },
     "output_type": "execute_result"
    }
   ],
   "source": [
    "len(students)"
   ]
  },
  {
   "cell_type": "code",
   "execution_count": 14,
   "metadata": {
    "colab": {
     "base_uri": "https://localhost:8080/"
    },
    "executionInfo": {
     "elapsed": 930,
     "status": "ok",
     "timestamp": 1606755092294,
     "user": {
      "displayName": "gizem dağdeviren",
      "photoUrl": "https://lh3.googleusercontent.com/a-/AOh14GiFau5mIe6N33lHJgFjRLSuUa5pfk0PrKbDqyGqSQ=s64",
      "userId": "02351390116138047818"
     },
     "user_tz": -180
    },
    "id": "lXB5KLQXEE4p",
    "outputId": "de0b6188-315c-48df-fb3e-00bd451b82ef"
   },
   "outputs": [
    {
     "name": "stdout",
     "output_type": "stream",
     "text": [
      "77.4\n"
     ]
    }
   ],
   "source": [
    "sum = 0\n",
    "ort = 0\n",
    "for i in students:\n",
    "  sum += students[i]['grade']\n",
    "  ort = sum / len(students)\n",
    "\n",
    "print(ort)"
   ]
  },
  {
   "cell_type": "code",
   "execution_count": 15,
   "metadata": {
    "colab": {
     "base_uri": "https://localhost:8080/"
    },
    "executionInfo": {
     "elapsed": 713,
     "status": "ok",
     "timestamp": 1606755100285,
     "user": {
      "displayName": "gizem dağdeviren",
      "photoUrl": "https://lh3.googleusercontent.com/a-/AOh14GiFau5mIe6N33lHJgFjRLSuUa5pfk0PrKbDqyGqSQ=s64",
      "userId": "02351390116138047818"
     },
     "user_tz": -180
    },
    "id": "iSuakqMREE62",
    "outputId": "e54a1aad-533b-4d33-a26f-5ef51b6a3b0e"
   },
   "outputs": [
    {
     "name": "stdout",
     "output_type": "stream",
     "text": [
      "Jane\n",
      "Pat\n",
      "Denis\n",
      "Max\n",
      "Lara\n"
     ]
    }
   ],
   "source": [
    "for i in students:\n",
    "  print(i)"
   ]
  },
  {
   "cell_type": "code",
   "execution_count": 16,
   "metadata": {
    "colab": {
     "base_uri": "https://localhost:8080/"
    },
    "executionInfo": {
     "elapsed": 731,
     "status": "ok",
     "timestamp": 1606755109615,
     "user": {
      "displayName": "gizem dağdeviren",
      "photoUrl": "https://lh3.googleusercontent.com/a-/AOh14GiFau5mIe6N33lHJgFjRLSuUa5pfk0PrKbDqyGqSQ=s64",
      "userId": "02351390116138047818"
     },
     "user_tz": -180
    },
    "id": "9A3IgxWDEE9r",
    "outputId": "343b7814-0fc7-4ac5-9ef2-fae275aca72c"
   },
   "outputs": [
    {
     "name": "stdout",
     "output_type": "stream",
     "text": [
      "Jane is above the average\n",
      "Pat is above the average\n",
      "Denis is below the average\n",
      "Max is below the average\n",
      "Lara is below the average\n"
     ]
    }
   ],
   "source": [
    "for keys in students.keys():\n",
    "  if students[keys]['grade'] > ort:\n",
    "    print(keys +\" \" + \"is above the average\")\n",
    "  elif students[keys]['grade'] < ort:\n",
    "    print(keys +\" \"+ \"is below the average\")\n",
    "  else:\n",
    "    print(keys +\" \" + \"is equal to the mean\")"
   ]
  },
  {
   "cell_type": "code",
   "execution_count": 17,
   "metadata": {
    "colab": {
     "base_uri": "https://localhost:8080/"
    },
    "executionInfo": {
     "elapsed": 725,
     "status": "ok",
     "timestamp": 1606755118114,
     "user": {
      "displayName": "gizem dağdeviren",
      "photoUrl": "https://lh3.googleusercontent.com/a-/AOh14GiFau5mIe6N33lHJgFjRLSuUa5pfk0PrKbDqyGqSQ=s64",
      "userId": "02351390116138047818"
     },
     "user_tz": -180
    },
    "id": "9NiM5iQiEFBA",
    "outputId": "416a28b6-dfda-4e4a-9311-8d62a1b74ba6"
   },
   "outputs": [
    {
     "name": "stdout",
     "output_type": "stream",
     "text": [
      "Jane\n",
      "Pat\n",
      "Denis\n",
      "Max\n",
      "Lara\n"
     ]
    }
   ],
   "source": [
    "for keys in students.keys():\n",
    "  print(keys)"
   ]
  },
  {
   "cell_type": "code",
   "execution_count": 18,
   "metadata": {
    "colab": {
     "base_uri": "https://localhost:8080/"
    },
    "executionInfo": {
     "elapsed": 1036,
     "status": "ok",
     "timestamp": 1606755125912,
     "user": {
      "displayName": "gizem dağdeviren",
      "photoUrl": "https://lh3.googleusercontent.com/a-/AOh14GiFau5mIe6N33lHJgFjRLSuUa5pfk0PrKbDqyGqSQ=s64",
      "userId": "02351390116138047818"
     },
     "user_tz": -180
    },
    "id": "2mxhhEILEE83",
    "outputId": "29d39e48-1223-4e14-d843-4402fc46f25e"
   },
   "outputs": [
    {
     "data": {
      "text/plain": [
       "str"
      ]
     },
     "execution_count": 18,
     "metadata": {
      "tags": []
     },
     "output_type": "execute_result"
    }
   ],
   "source": [
    "type(keys)"
   ]
  },
  {
   "cell_type": "markdown",
   "metadata": {
    "id": "koixZZk6EYy_"
   },
   "source": [
    "#5. SORU\n",
    "A theatre sells batches of 1 to 4 tickets per sale (if available). Initially there are 200 tickets. Write a Python program that repeatedly tells the user how many tickets are left, asks for how many tickets the user wants to buy, indicates minimum and maximum numbers to buy, and reads the user's input. This continues until all tickets have been sold. At the end, the program prints how many sales transactions have been performed. For example, we might have the following interaction:\n",
    "\n",
    "200 tickets remaining\n",
    "\n",
    "How many do you want to buy?\n",
    "\n",
    "Minimum 1, maximum 4\n",
    "\n",
    "3\n",
    "\n",
    "197 tickets remaining\n",
    "\n",
    "How many do you want to buy?\n",
    "\n",
    "Minimum 1, maximum 4\n",
    "\n",
    "4\n",
    "\n",
    "(...)\n",
    "\n",
    "2 tickets remaining\n",
    "\n",
    "How many do you want to buy?\n",
    "\n",
    "Minimum 1, maximum 2\n",
    "\n",
    "2\n",
    "\n",
    "86 sales transactions\n",
    "\n",
    "(You may assume that the user enters the data correctly, i.e., all values are integers between the current minimum and maximum numbers they may buy.)"
   ]
  },
  {
   "cell_type": "code",
   "execution_count": 19,
   "metadata": {
    "executionInfo": {
     "elapsed": 808,
     "status": "ok",
     "timestamp": 1606755141724,
     "user": {
      "displayName": "gizem dağdeviren",
      "photoUrl": "https://lh3.googleusercontent.com/a-/AOh14GiFau5mIe6N33lHJgFjRLSuUa5pfk0PrKbDqyGqSQ=s64",
      "userId": "02351390116138047818"
     },
     "user_tz": -180
    },
    "id": "tQH6LY1rEY50"
   },
   "outputs": [],
   "source": [
    "tickets = 200\n",
    "counter = 0\n",
    "min = 1\n",
    "max = 4"
   ]
  },
  {
   "cell_type": "code",
   "execution_count": null,
   "metadata": {
    "id": "OqucTydjEY98"
   },
   "outputs": [],
   "source": [
    "while(ticket > 0):\n",
    "  print(f\"{tickets} tickets remaining\")\n",
    "  print(\"How many do you want to buy?\\n\")\n",
    "  sales = int(input(\"How many do you want to buy?\\n\"))\n",
    "  if ((sales >= min) & (sales <= max)):\n",
    "    ticket -= sales\n",
    "    counter += 1\n",
    "    print(\"sales transaction\")\n",
    "  else:\n",
    "    print(\"invalid number\")"
   ]
  }
 ],
 "metadata": {
  "colab": {
   "authorship_tag": "ABX9TyOdstdKClkEEdVSUNx7l+LZ",
   "collapsed_sections": [],
   "name": "gizem_dagdeviren_hw1.ipynb",
   "provenance": []
  },
  "kernelspec": {
   "display_name": "Python 3",
   "language": "python",
   "name": "python3"
  },
  "language_info": {
   "codemirror_mode": {
    "name": "ipython",
    "version": 3
   },
   "file_extension": ".py",
   "mimetype": "text/x-python",
   "name": "python",
   "nbconvert_exporter": "python",
   "pygments_lexer": "ipython3",
   "version": "3.8.3"
  }
 },
 "nbformat": 4,
 "nbformat_minor": 1
}
